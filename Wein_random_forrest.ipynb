{
  "nbformat": 4,
  "nbformat_minor": 0,
  "metadata": {
    "colab": {
      "provenance": [],
      "authorship_tag": "ABX9TyNO3iOlkgFImV//3P5q5m/p"
    },
    "kernelspec": {
      "name": "python3",
      "display_name": "Python 3"
    },
    "language_info": {
      "name": "python"
    },
    "accelerator": "GPU",
    "gpuClass": "standard"
  },
  "cells": [
    {
      "cell_type": "code",
      "source": [
        "from sklearn.datasets import load_wine\n",
        "from sklearn.ensemble import RandomForestClassifier\n",
        "from sklearn.model_selection import GridSearchCV\n",
        "from sklearn.model_selection import train_test_split"
      ],
      "metadata": {
        "id": "TYrAXwWB6GQ5"
      },
      "execution_count": null,
      "outputs": []
    },
    {
      "cell_type": "code",
      "source": [
        "dataset = load_wine()\n",
        "x, y = dataset.data, dataset.target"
      ],
      "metadata": {
        "id": "OFMB6h-j6GNw"
      },
      "execution_count": null,
      "outputs": []
    },
    {
      "cell_type": "code",
      "source": [
        "x_train, x_test, y_train, y_test = train_test_split(\n",
        "  x, y, test_size = 0.3, random_state=42)"
      ],
      "metadata": {
        "id": "92PaYay56GJ9"
      },
      "execution_count": null,
      "outputs": []
    },
    {
      "cell_type": "code",
      "source": [
        "parameters = {\n",
        "  'criterion': ['gini', 'entropy'],\n",
        "  'max_depth': [None, 2, 4, 8, 10],\n",
        "  'min_samples_split': [1, 2, 4],\n",
        "  'min_samples_leaf': [1, 2],\n",
        "  'max_features': ['auto', 'sqrt', 'log2']\n",
        "}"
      ],
      "metadata": {
        "id": "l1BDFcqt6GE4"
      },
      "execution_count": null,
      "outputs": []
    },
    {
      "cell_type": "code",
      "source": [
        "clf = RandomForestClassifier(random_state = 42)\n",
        "grid_cv = GridSearchCV(clf, parameters, cv = 10, n_jobs = -1)\n",
        "grid_cv.fit(x_train, y_train)"
      ],
      "metadata": {
        "colab": {
          "base_uri": "https://localhost:8080/"
        },
        "id": "CHsCaDPs6F95",
        "outputId": "1bc6dc08-2e89-45ed-a2c4-47ecccac8c6f"
      },
      "execution_count": null,
      "outputs": [
        {
          "output_type": "stream",
          "name": "stderr",
          "text": [
            "/usr/local/lib/python3.8/dist-packages/sklearn/model_selection/_validation.py:372: FitFailedWarning: \n",
            "600 fits failed out of a total of 1800.\n",
            "The score on these train-test partitions for these parameters will be set to nan.\n",
            "If these failures are not expected, you can try to debug them by setting error_score='raise'.\n",
            "\n",
            "Below are more details about the failures:\n",
            "--------------------------------------------------------------------------------\n",
            "600 fits failed with the following error:\n",
            "Traceback (most recent call last):\n",
            "  File \"/usr/local/lib/python3.8/dist-packages/sklearn/model_selection/_validation.py\", line 680, in _fit_and_score\n",
            "    estimator.fit(X_train, y_train, **fit_params)\n",
            "  File \"/usr/local/lib/python3.8/dist-packages/sklearn/ensemble/_forest.py\", line 450, in fit\n",
            "    trees = Parallel(\n",
            "  File \"/usr/local/lib/python3.8/dist-packages/joblib/parallel.py\", line 1085, in __call__\n",
            "    if self.dispatch_one_batch(iterator):\n",
            "  File \"/usr/local/lib/python3.8/dist-packages/joblib/parallel.py\", line 901, in dispatch_one_batch\n",
            "    self._dispatch(tasks)\n",
            "  File \"/usr/local/lib/python3.8/dist-packages/joblib/parallel.py\", line 819, in _dispatch\n",
            "    job = self._backend.apply_async(batch, callback=cb)\n",
            "  File \"/usr/local/lib/python3.8/dist-packages/joblib/_parallel_backends.py\", line 208, in apply_async\n",
            "    result = ImmediateResult(func)\n",
            "  File \"/usr/local/lib/python3.8/dist-packages/joblib/_parallel_backends.py\", line 597, in __init__\n",
            "    self.results = batch()\n",
            "  File \"/usr/local/lib/python3.8/dist-packages/joblib/parallel.py\", line 288, in __call__\n",
            "    return [func(*args, **kwargs)\n",
            "  File \"/usr/local/lib/python3.8/dist-packages/joblib/parallel.py\", line 288, in <listcomp>\n",
            "    return [func(*args, **kwargs)\n",
            "  File \"/usr/local/lib/python3.8/dist-packages/sklearn/utils/fixes.py\", line 216, in __call__\n",
            "    return self.function(*args, **kwargs)\n",
            "  File \"/usr/local/lib/python3.8/dist-packages/sklearn/ensemble/_forest.py\", line 185, in _parallel_build_trees\n",
            "    tree.fit(X, y, sample_weight=curr_sample_weight, check_input=False)\n",
            "  File \"/usr/local/lib/python3.8/dist-packages/sklearn/tree/_classes.py\", line 937, in fit\n",
            "    super().fit(\n",
            "  File \"/usr/local/lib/python3.8/dist-packages/sklearn/tree/_classes.py\", line 250, in fit\n",
            "    raise ValueError(\n",
            "ValueError: min_samples_split must be an integer greater than 1 or a float in (0.0, 1.0]; got the integer 1\n",
            "\n",
            "  warnings.warn(some_fits_failed_message, FitFailedWarning)\n",
            "/usr/local/lib/python3.8/dist-packages/sklearn/model_selection/_search.py:969: UserWarning: One or more of the test scores are non-finite: [       nan 0.96794872 0.96794872        nan 0.96794872 0.96794872\n",
            "        nan 0.96794872 0.96794872        nan 0.96794872 0.96794872\n",
            "        nan 0.96794872 0.96794872        nan 0.96794872 0.96794872\n",
            "        nan 0.97564103 0.97564103        nan 0.97564103 0.97564103\n",
            "        nan 0.97564103 0.97564103        nan 0.97564103 0.97564103\n",
            "        nan 0.97564103 0.97564103        nan 0.97564103 0.97564103\n",
            "        nan 0.96794872 0.96794872        nan 0.96794872 0.96794872\n",
            "        nan 0.96794872 0.96794872        nan 0.96794872 0.96794872\n",
            "        nan 0.96794872 0.96794872        nan 0.96794872 0.96794872\n",
            "        nan 0.96794872 0.96794872        nan 0.96794872 0.96794872\n",
            "        nan 0.96794872 0.96794872        nan 0.96794872 0.96794872\n",
            "        nan 0.96794872 0.96794872        nan 0.96794872 0.96794872\n",
            "        nan 0.96794872 0.96794872        nan 0.96794872 0.96794872\n",
            "        nan 0.96794872 0.96794872        nan 0.96794872 0.96794872\n",
            "        nan 0.96794872 0.96794872        nan 0.96794872 0.96794872\n",
            "        nan 0.96794872 0.96794872        nan 0.96794872 0.96794872\n",
            "        nan 0.96794872 0.96794872        nan 0.96794872 0.96794872\n",
            "        nan 0.96794872 0.96794872        nan 0.96794872 0.96794872\n",
            "        nan 0.97564103 0.97564103        nan 0.97564103 0.97564103\n",
            "        nan 0.97564103 0.97564103        nan 0.97564103 0.97564103\n",
            "        nan 0.97564103 0.97564103        nan 0.97564103 0.97564103\n",
            "        nan 0.97564103 0.96794872        nan 0.96794872 0.96794872\n",
            "        nan 0.97564103 0.96794872        nan 0.96794872 0.96794872\n",
            "        nan 0.97564103 0.96794872        nan 0.96794872 0.96794872\n",
            "        nan 0.96794872 0.96794872        nan 0.96794872 0.96794872\n",
            "        nan 0.96794872 0.96794872        nan 0.96794872 0.96794872\n",
            "        nan 0.96794872 0.96794872        nan 0.96794872 0.96794872\n",
            "        nan 0.96794872 0.96794872        nan 0.96794872 0.96794872\n",
            "        nan 0.96794872 0.96794872        nan 0.96794872 0.96794872\n",
            "        nan 0.96794872 0.96794872        nan 0.96794872 0.96794872]\n",
            "  warnings.warn(\n"
          ]
        },
        {
          "output_type": "execute_result",
          "data": {
            "text/plain": [
              "GridSearchCV(cv=10, estimator=RandomForestClassifier(random_state=42),\n",
              "             n_jobs=-1,\n",
              "             param_grid={'criterion': ['gini', 'entropy'],\n",
              "                         'max_depth': [None, 2, 4, 8, 10],\n",
              "                         'max_features': ['auto', 'sqrt', 'log2'],\n",
              "                         'min_samples_leaf': [1, 2],\n",
              "                         'min_samples_split': [1, 2, 4]})"
            ]
          },
          "metadata": {},
          "execution_count": 8
        }
      ]
    },
    {
      "cell_type": "code",
      "source": [
        "print(f\"Parameters of best model: {grid_cv.best_params_}\")\n",
        "print(f\"Score of best model: {grid_cv.best_score_}\")"
      ],
      "metadata": {
        "colab": {
          "base_uri": "https://localhost:8080/"
        },
        "id": "5aOGJs3S6WIK",
        "outputId": "5de99785-cbac-4d73-db87-f09d1dff1621"
      },
      "execution_count": null,
      "outputs": [
        {
          "output_type": "stream",
          "name": "stdout",
          "text": [
            "Parameters of best model: {'criterion': 'gini', 'max_depth': 2, 'max_features': 'auto', 'min_samples_leaf': 1, 'min_samples_split': 2}\n",
            "Score of best model: 0.9756410256410255\n"
          ]
        }
      ]
    },
    {
      "cell_type": "code",
      "execution_count": null,
      "metadata": {
        "colab": {
          "base_uri": "https://localhost:8080/"
        },
        "id": "l4sMjn-1472Q",
        "outputId": "14c4726b-804d-412b-f003-5463977c50dd"
      },
      "outputs": [
        {
          "output_type": "stream",
          "name": "stdout",
          "text": [
            "Accuracy: 0.9629629629629629\n"
          ]
        }
      ],
      "source": [
        "score = grid_cv.score(x_test, y_test)\n",
        "print(f\"Accuracy: {score}\")"
      ]
    },
    {
      "cell_type": "code",
      "source": [
        "# This may not the best way to view each estimator as it is small\n",
        "import matplotlib.pyplot as plt\n",
        "fn=dataset.feature_names\n",
        "cn=dataset.target_names\n",
        "fig, axes = plt.subplots(nrows = 1,ncols = 5,figsize = (10,2), dpi=900)\n",
        "for index in range(0, 5):\n",
        "    tree.plot_tree(rf.estimators_[index],\n",
        "                   feature_names = fn, \n",
        "                   class_names=cn,\n",
        "                   filled = True,\n",
        "                   ax = axes[index]);\n",
        "\n",
        "    axes[index].set_title('Estimator: ' + str(index), fontsize = 11)\n",
        "fig.savefig('rf_5trees.png')"
      ],
      "metadata": {
        "colab": {
          "base_uri": "https://localhost:8080/"
        },
        "id": "jmu4QJas9y_p",
        "outputId": "74e0bf58-67e9-4f0c-a8b6-5ec1803b8210"
      },
      "execution_count": null,
      "outputs": [
        {
          "output_type": "stream",
          "name": "stdout",
          "text": [
            "Accuracy: 0.9629629629629629\n"
          ]
        }
      ]
    },
    {
      "cell_type": "code",
      "source": [
        "from sklearn import tree\n",
        "import graphviz\n",
        "dot_data = tree.export_graphviz(clf, out_file=None, \n",
        "                                feature_names=dataset.feature_names,  \n",
        "                                class_names=dataset.target_names,\n",
        "                                filled=True)\n",
        "graph = graphviz.Source(dot_data, format=\"png\") \n",
        "graph"
      ],
      "metadata": {
        "id": "t-MPRKVK-ZGe"
      },
      "execution_count": null,
      "outputs": []
    },
    {
      "cell_type": "code",
      "source": [
        "import matplotlib.pyplot as plt\n",
        "import numpy as np\n",
        "\n",
        "best_model = grid_cv.best_estimator_\n",
        "importances = best_model.feature_importances_\n",
        "\n",
        "# Zeige die Wichtigkeit der Merkmale in einem Bar-Diagramm\n",
        "sorted_idx = np.argsort(importances)[::-1]\n",
        "labels = np.array(dataset.feature_names)[sorted_idx]\n",
        "plt.bar(range(x.shape[1]), importances[sorted_idx])\n",
        "plt.xticks(range(x.shape[1]), labels, rotation=90)\n",
        "plt.show()"
      ],
      "metadata": {
        "colab": {
          "base_uri": "https://localhost:8080/",
          "height": 412
        },
        "id": "ecKVE-tX-2j_",
        "outputId": "574b9e85-8ef9-48ea-81f9-083793119807"
      },
      "execution_count": null,
      "outputs": [
        {
          "output_type": "display_data",
          "data": {
            "text/plain": [
              "<Figure size 432x288 with 1 Axes>"
            ],
            "image/png": "[encoded data removed]"
          },
          "metadata": {
            "needs_background": "light"
          }
        }
      ]
    },
    {
      "cell_type": "code",
      "source": [
        "import pandas as pd\n",
        "from sklearn.datasets import load_wine\n",
        "from sklearn.ensemble import RandomForestClassifier\n",
        "from sklearn.model_selection import GridSearchCV\n",
        "from sklearn.model_selection import train_test_split\n",
        "\n",
        "dataset = load_wine()\n",
        "x, y = dataset.data, dataset.target\n",
        "x_train, x_test, y_train, y_test = train_test_split(\n",
        "    x, y, test_size = 0.3, random_state=42)\n",
        "\n",
        "parameters = {\n",
        "    'criterion': ['gini', 'entropy'],\n",
        "    'max_depth': [None, 2, 4, 8, 10],\n",
        "    'min_samples_split': [1, 2, 4],\n",
        "    'min_samples_leaf': [1, 2],\n",
        "    'max_features': ['auto', 'sqrt', 'log2'],\n",
        "    'n_estimators': [10, 20, 50, 100, 200]\n",
        "}\n",
        "\n",
        "clf = RandomForestClassifier(random_state=42)\n",
        "grid_cv = GridSearchCV(clf, parameters, cv=10, n_jobs=-1)\n",
        "grid_cv.fit(x_train, y_train)\n",
        "\n",
        "\n"
      ],
      "metadata": {
        "colab": {
          "base_uri": "https://localhost:8080/"
        },
        "id": "n5cs5BBb_gbv",
        "outputId": "aed33ba3-a6aa-47ff-fc3a-1ce6529c2a60"
      },
      "execution_count": null,
      "outputs": [
        {
          "output_type": "stream",
          "name": "stdout",
          "text": [
            "Parameters of best model: {'criterion': 'gini', 'max_depth': 4, 'max_features': 'auto', 'min_samples_leaf': 1, 'min_samples_split': 4, 'n_estimators': 20}\n",
            "Score of best model: 0.9839743589743589\n",
            "Accuracy: 0.9444444444444444\n"
          ]
        },
        {
          "output_type": "stream",
          "name": "stderr",
          "text": [
            "/usr/local/lib/python3.8/dist-packages/sklearn/model_selection/_validation.py:372: FitFailedWarning: \n",
            "3000 fits failed out of a total of 9000.\n",
            "The score on these train-test partitions for these parameters will be set to nan.\n",
            "If these failures are not expected, you can try to debug them by setting error_score='raise'.\n",
            "\n",
            "Below are more details about the failures:\n",
            "--------------------------------------------------------------------------------\n",
            "3000 fits failed with the following error:\n",
            "Traceback (most recent call last):\n",
            "  File \"/usr/local/lib/python3.8/dist-packages/sklearn/model_selection/_validation.py\", line 680, in _fit_and_score\n",
            "    estimator.fit(X_train, y_train, **fit_params)\n",
            "  File \"/usr/local/lib/python3.8/dist-packages/sklearn/ensemble/_forest.py\", line 450, in fit\n",
            "    trees = Parallel(\n",
            "  File \"/usr/local/lib/python3.8/dist-packages/joblib/parallel.py\", line 1085, in __call__\n",
            "    if self.dispatch_one_batch(iterator):\n",
            "  File \"/usr/local/lib/python3.8/dist-packages/joblib/parallel.py\", line 901, in dispatch_one_batch\n",
            "    self._dispatch(tasks)\n",
            "  File \"/usr/local/lib/python3.8/dist-packages/joblib/parallel.py\", line 819, in _dispatch\n",
            "    job = self._backend.apply_async(batch, callback=cb)\n",
            "  File \"/usr/local/lib/python3.8/dist-packages/joblib/_parallel_backends.py\", line 208, in apply_async\n",
            "    result = ImmediateResult(func)\n",
            "  File \"/usr/local/lib/python3.8/dist-packages/joblib/_parallel_backends.py\", line 597, in __init__\n",
            "    self.results = batch()\n",
            "  File \"/usr/local/lib/python3.8/dist-packages/joblib/parallel.py\", line 288, in __call__\n",
            "    return [func(*args, **kwargs)\n",
            "  File \"/usr/local/lib/python3.8/dist-packages/joblib/parallel.py\", line 288, in <listcomp>\n",
            "    return [func(*args, **kwargs)\n",
            "  File \"/usr/local/lib/python3.8/dist-packages/sklearn/utils/fixes.py\", line 216, in __call__\n",
            "    return self.function(*args, **kwargs)\n",
            "  File \"/usr/local/lib/python3.8/dist-packages/sklearn/ensemble/_forest.py\", line 185, in _parallel_build_trees\n",
            "    tree.fit(X, y, sample_weight=curr_sample_weight, check_input=False)\n",
            "  File \"/usr/local/lib/python3.8/dist-packages/sklearn/tree/_classes.py\", line 937, in fit\n",
            "    super().fit(\n",
            "  File \"/usr/local/lib/python3.8/dist-packages/sklearn/tree/_classes.py\", line 250, in fit\n",
            "    raise ValueError(\n",
            "ValueError: min_samples_split must be an integer greater than 1 or a float in (0.0, 1.0]; got the integer 1\n",
            "\n",
            "  warnings.warn(some_fits_failed_message, FitFailedWarning)\n",
            "/usr/local/lib/python3.8/dist-packages/sklearn/model_selection/_search.py:969: UserWarning: One or more of the test scores are non-finite: [       nan        nan        nan        nan        nan 0.97628205\n",
            " 0.97564103 0.96794872 0.96794872 0.96794872 0.96794872 0.97564103\n",
            " 0.96794872 0.96794872 0.96794872        nan        nan        nan\n",
            "        nan        nan 0.96858974 0.96794872 0.96794872 0.96794872\n",
            " 0.96794872 0.96858974 0.96794872 0.96794872 0.96794872 0.96794872\n",
            "        nan        nan        nan        nan        nan 0.97628205\n",
            " 0.97564103 0.96794872 0.96794872 0.96794872 0.96794872 0.97564103\n",
            " 0.96794872 0.96794872 0.96794872        nan        nan        nan\n",
            "        nan        nan 0.96858974 0.96794872 0.96794872 0.96794872\n",
            " 0.96794872 0.96858974 0.96794872 0.96794872 0.96794872 0.96794872\n",
            "        nan        nan        nan        nan        nan 0.97628205\n",
            " 0.97564103 0.96794872 0.96794872 0.96794872 0.96794872 0.97564103\n",
            " 0.96794872 0.96794872 0.96794872        nan        nan        nan\n",
            "        nan        nan 0.96858974 0.96794872 0.96794872 0.96794872\n",
            " 0.96794872 0.96858974 0.96794872 0.96794872 0.96794872 0.96794872\n",
            "        nan        nan        nan        nan        nan 0.93653846\n",
            " 0.95961538 0.96730769 0.97564103 0.97564103 0.93653846 0.95961538\n",
            " 0.96730769 0.97564103 0.97564103        nan        nan        nan\n",
            "        nan        nan 0.95192308 0.95961538 0.96730769 0.97564103\n",
            " 0.97564103 0.95192308 0.95961538 0.96730769 0.97564103 0.97564103\n",
            "        nan        nan        nan        nan        nan 0.93653846\n",
            " 0.95961538 0.96730769 0.97564103 0.97564103 0.93653846 0.95961538\n",
            " 0.96730769 0.97564103 0.97564103        nan        nan        nan\n",
            "        nan        nan 0.95192308 0.95961538 0.96730769 0.97564103\n",
            " 0.97564103 0.95192308 0.95961538 0.96730769 0.97564103 0.97564103\n",
            "        nan        nan        nan        nan        nan 0.93653846\n",
            " 0.95961538 0.96730769 0.97564103 0.97564103 0.93653846 0.95961538\n",
            " 0.96730769 0.97564103 0.97564103        nan        nan        nan\n",
            "        nan        nan 0.95192308 0.95961538 0.96730769 0.97564103\n",
            " 0.97564103 0.95192308 0.95961538 0.96730769 0.97564103 0.97564103\n",
            "        nan        nan        nan        nan        nan 0.97628205\n",
            " 0.97564103 0.96794872 0.96794872 0.96794872 0.96794872 0.98397436\n",
            " 0.96794872 0.96794872 0.96794872        nan        nan        nan\n",
            "        nan        nan 0.96858974 0.96794872 0.96794872 0.96794872\n",
            " 0.96794872 0.96858974 0.96794872 0.96794872 0.96794872 0.96794872\n",
            "        nan        nan        nan        nan        nan 0.97628205\n",
            " 0.97564103 0.96794872 0.96794872 0.96794872 0.96794872 0.98397436\n",
            " 0.96794872 0.96794872 0.96794872        nan        nan        nan\n",
            "        nan        nan 0.96858974 0.96794872 0.96794872 0.96794872\n",
            " 0.96794872 0.96858974 0.96794872 0.96794872 0.96794872 0.96794872\n",
            "        nan        nan        nan        nan        nan 0.97628205\n",
            " 0.97564103 0.96794872 0.96794872 0.96794872 0.96794872 0.98397436\n",
            " 0.96794872 0.96794872 0.96794872        nan        nan        nan\n",
            "        nan        nan 0.96858974 0.96794872 0.96794872 0.96794872\n",
            " 0.96794872 0.96858974 0.96794872 0.96794872 0.96794872 0.96794872\n",
            "        nan        nan        nan        nan        nan 0.97628205\n",
            " 0.97564103 0.96794872 0.96794872 0.96794872 0.96794872 0.97564103\n",
            " 0.96794872 0.96794872 0.96794872        nan        nan        nan\n",
            "        nan        nan 0.96858974 0.96794872 0.96794872 0.96794872\n",
            " 0.96794872 0.96858974 0.96794872 0.96794872 0.96794872 0.96794872\n",
            "        nan        nan        nan        nan        nan 0.97628205\n",
            " 0.97564103 0.96794872 0.96794872 0.96794872 0.96794872 0.97564103\n",
            " 0.96794872 0.96794872 0.96794872        nan        nan        nan\n",
            "        nan        nan 0.96858974 0.96794872 0.96794872 0.96794872\n",
            " 0.96794872 0.96858974 0.96794872 0.96794872 0.96794872 0.96794872\n",
            "        nan        nan        nan        nan        nan 0.97628205\n",
            " 0.97564103 0.96794872 0.96794872 0.96794872 0.96794872 0.97564103\n",
            " 0.96794872 0.96794872 0.96794872        nan        nan        nan\n",
            "        nan        nan 0.96858974 0.96794872 0.96794872 0.96794872\n",
            " 0.96794872 0.96858974 0.96794872 0.96794872 0.96794872 0.96794872\n",
            "        nan        nan        nan        nan        nan 0.97628205\n",
            " 0.97564103 0.96794872 0.96794872 0.96794872 0.96794872 0.97564103\n",
            " 0.96794872 0.96794872 0.96794872        nan        nan        nan\n",
            "        nan        nan 0.96858974 0.96794872 0.96794872 0.96794872\n",
            " 0.96794872 0.96858974 0.96794872 0.96794872 0.96794872 0.96794872\n",
            "        nan        nan        nan        nan        nan 0.97628205\n",
            " 0.97564103 0.96794872 0.96794872 0.96794872 0.96794872 0.97564103\n",
            " 0.96794872 0.96794872 0.96794872        nan        nan        nan\n",
            "        nan        nan 0.96858974 0.96794872 0.96794872 0.96794872\n",
            " 0.96794872 0.96858974 0.96794872 0.96794872 0.96794872 0.96794872\n",
            "        nan        nan        nan        nan        nan 0.97628205\n",
            " 0.97564103 0.96794872 0.96794872 0.96794872 0.96794872 0.97564103\n",
            " 0.96794872 0.96794872 0.96794872        nan        nan        nan\n",
            "        nan        nan 0.96858974 0.96794872 0.96794872 0.96794872\n",
            " 0.96794872 0.96858974 0.96794872 0.96794872 0.96794872 0.96794872\n",
            "        nan        nan        nan        nan        nan 0.94423077\n",
            " 0.97564103 0.96794872 0.96794872 0.96794872 0.93589744 0.96794872\n",
            " 0.96794872 0.96794872 0.96794872        nan        nan        nan\n",
            "        nan        nan 0.9525641  0.96794872 0.96794872 0.96794872\n",
            " 0.96794872 0.9525641  0.96794872 0.96794872 0.96794872 0.96794872\n",
            "        nan        nan        nan        nan        nan 0.94423077\n",
            " 0.97564103 0.96794872 0.96794872 0.96794872 0.93589744 0.96794872\n",
            " 0.96794872 0.96794872 0.96794872        nan        nan        nan\n",
            "        nan        nan 0.9525641  0.96794872 0.96794872 0.96794872\n",
            " 0.96794872 0.9525641  0.96794872 0.96794872 0.96794872 0.96794872\n",
            "        nan        nan        nan        nan        nan 0.94423077\n",
            " 0.97564103 0.96794872 0.96794872 0.96794872 0.93589744 0.96794872\n",
            " 0.96794872 0.96794872 0.96794872        nan        nan        nan\n",
            "        nan        nan 0.9525641  0.96794872 0.96794872 0.96794872\n",
            " 0.96794872 0.9525641  0.96794872 0.96794872 0.96794872 0.96794872\n",
            "        nan        nan        nan        nan        nan 0.93653846\n",
            " 0.95961538 0.95897436 0.97564103 0.97564103 0.93653846 0.95961538\n",
            " 0.95897436 0.97564103 0.97564103        nan        nan        nan\n",
            "        nan        nan 0.93653846 0.95961538 0.96730769 0.97564103\n",
            " 0.97564103 0.93653846 0.95961538 0.96730769 0.97564103 0.97564103\n",
            "        nan        nan        nan        nan        nan 0.93653846\n",
            " 0.95961538 0.95897436 0.97564103 0.97564103 0.93653846 0.95961538\n",
            " 0.95897436 0.97564103 0.97564103        nan        nan        nan\n",
            "        nan        nan 0.93653846 0.95961538 0.96730769 0.97564103\n",
            " 0.97564103 0.93653846 0.95961538 0.96730769 0.97564103 0.97564103\n",
            "        nan        nan        nan        nan        nan 0.93653846\n",
            " 0.95961538 0.95897436 0.97564103 0.97564103 0.93653846 0.95961538\n",
            " 0.95897436 0.97564103 0.97564103        nan        nan        nan\n",
            "        nan        nan 0.93653846 0.95961538 0.96730769 0.97564103\n",
            " 0.97564103 0.93653846 0.95961538 0.96730769 0.97564103 0.97564103\n",
            "        nan        nan        nan        nan        nan 0.93589744\n",
            " 0.97564103 0.96794872 0.97564103 0.96794872 0.9275641  0.96794872\n",
            " 0.96794872 0.96794872 0.96794872        nan        nan        nan\n",
            "        nan        nan 0.94423077 0.96794872 0.96794872 0.96794872\n",
            " 0.96794872 0.94423077 0.96794872 0.96794872 0.96794872 0.96794872\n",
            "        nan        nan        nan        nan        nan 0.93589744\n",
            " 0.97564103 0.96794872 0.97564103 0.96794872 0.9275641  0.96794872\n",
            " 0.96794872 0.96794872 0.96794872        nan        nan        nan\n",
            "        nan        nan 0.94423077 0.96794872 0.96794872 0.96794872\n",
            " 0.96794872 0.94423077 0.96794872 0.96794872 0.96794872 0.96794872\n",
            "        nan        nan        nan        nan        nan 0.93589744\n",
            " 0.97564103 0.96794872 0.97564103 0.96794872 0.9275641  0.96794872\n",
            " 0.96794872 0.96794872 0.96794872        nan        nan        nan\n",
            "        nan        nan 0.94423077 0.96794872 0.96794872 0.96794872\n",
            " 0.96794872 0.94423077 0.96794872 0.96794872 0.96794872 0.96794872\n",
            "        nan        nan        nan        nan        nan 0.94423077\n",
            " 0.97564103 0.96794872 0.96794872 0.96794872 0.93589744 0.96794872\n",
            " 0.96794872 0.96794872 0.96794872        nan        nan        nan\n",
            "        nan        nan 0.9525641  0.96794872 0.96794872 0.96794872\n",
            " 0.96794872 0.9525641  0.96794872 0.96794872 0.96794872 0.96794872\n",
            "        nan        nan        nan        nan        nan 0.94423077\n",
            " 0.97564103 0.96794872 0.96794872 0.96794872 0.93589744 0.96794872\n",
            " 0.96794872 0.96794872 0.96794872        nan        nan        nan\n",
            "        nan        nan 0.9525641  0.96794872 0.96794872 0.96794872\n",
            " 0.96794872 0.9525641  0.96794872 0.96794872 0.96794872 0.96794872\n",
            "        nan        nan        nan        nan        nan 0.94423077\n",
            " 0.97564103 0.96794872 0.96794872 0.96794872 0.93589744 0.96794872\n",
            " 0.96794872 0.96794872 0.96794872        nan        nan        nan\n",
            "        nan        nan 0.9525641  0.96794872 0.96794872 0.96794872\n",
            " 0.96794872 0.9525641  0.96794872 0.96794872 0.96794872 0.96794872\n",
            "        nan        nan        nan        nan        nan 0.94423077\n",
            " 0.97564103 0.96794872 0.96794872 0.96794872 0.93589744 0.96794872\n",
            " 0.96794872 0.96794872 0.96794872        nan        nan        nan\n",
            "        nan        nan 0.9525641  0.96794872 0.96794872 0.96794872\n",
            " 0.96794872 0.9525641  0.96794872 0.96794872 0.96794872 0.96794872\n",
            "        nan        nan        nan        nan        nan 0.94423077\n",
            " 0.97564103 0.96794872 0.96794872 0.96794872 0.93589744 0.96794872\n",
            " 0.96794872 0.96794872 0.96794872        nan        nan        nan\n",
            "        nan        nan 0.9525641  0.96794872 0.96794872 0.96794872\n",
            " 0.96794872 0.9525641  0.96794872 0.96794872 0.96794872 0.96794872\n",
            "        nan        nan        nan        nan        nan 0.94423077\n",
            " 0.97564103 0.96794872 0.96794872 0.96794872 0.93589744 0.96794872\n",
            " 0.96794872 0.96794872 0.96794872        nan        nan        nan\n",
            "        nan        nan 0.9525641  0.96794872 0.96794872 0.96794872\n",
            " 0.96794872 0.9525641  0.96794872 0.96794872 0.96794872 0.96794872]\n",
            "  warnings.warn(\n"
          ]
        }
      ]
    },
    {
      "cell_type": "code",
      "source": [
        "print(f\"Parameters of best model: {grid_cv.best_params_}\")\n",
        "print(f\"Score of best model: {grid_cv.best_score_}\")\n",
        "score = grid_cv.score(x_test, y_test)\n",
        "print(f\"Accuracy: {score}\")"
      ],
      "metadata": {
        "colab": {
          "base_uri": "https://localhost:8080/"
        },
        "id": "WhZ-k2B-B2Wj",
        "outputId": "0d284eaa-f508-4e4d-b049-217d31b1953d"
      },
      "execution_count": null,
      "outputs": [
        {
          "output_type": "stream",
          "name": "stdout",
          "text": [
            "Parameters of best model: {'criterion': 'gini', 'max_depth': 4, 'max_features': 'auto', 'min_samples_leaf': 1, 'min_samples_split': 4, 'n_estimators': 20}\n",
            "Score of best model: 0.9839743589743589\n",
            "Accuracy: 0.9444444444444444\n"
          ]
        }
      ]
    },
    {
      "cell_type": "code",
      "source": [
        "from sklearn import tree\n",
        "for i in range(5):\n",
        "    fig, ax = plt.subplots(figsize=(15,8))\n",
        "    dot_data = tree.export_graphviz(grid_cv.estimators_[i], out_file=None, \n",
        "                                feature_names=dataset.feature_names,  \n",
        "                                class_names=dataset.target_names,\n",
        "                                filled=True)\n",
        "    graph = graphviz.Source(dot_data, format=\"png\") \n",
        "    plt.imshow(graph.pipe(format='png'))\n",
        "    ax.axis('off')\n",
        "    plt.title(\"Decision Tree {}\".format(i+1))\n",
        "    plt.show()"
      ],
      "metadata": {
        "colab": {
          "base_uri": "https://localhost:8080/",
          "height": 705
        },
        "id": "n-dGl-AFB4-N",
        "outputId": "3d92857a-e0f0-4417-b178-3217f2b43b99"
      },
      "execution_count": null,
      "outputs": [
        {
          "output_type": "error",
          "ename": "AttributeError",
          "evalue": "ignored",
          "traceback": [
            "\u001b[0;31m---------------------------------------------------------------------------\u001b[0m",
            "\u001b[0;31mAttributeError\u001b[0m                            Traceback (most recent call last)",
            "\u001b[0;32m<ipython-input-18-1318a84fa6de>\u001b[0m in \u001b[0;36m<module>\u001b[0;34m\u001b[0m\n\u001b[1;32m      2\u001b[0m \u001b[0;32mfor\u001b[0m \u001b[0mi\u001b[0m \u001b[0;32min\u001b[0m \u001b[0mrange\u001b[0m\u001b[0;34m(\u001b[0m\u001b[0;36m5\u001b[0m\u001b[0;34m)\u001b[0m\u001b[0;34m:\u001b[0m\u001b[0;34m\u001b[0m\u001b[0;34m\u001b[0m\u001b[0m\n\u001b[1;32m      3\u001b[0m     \u001b[0mfig\u001b[0m\u001b[0;34m,\u001b[0m \u001b[0max\u001b[0m \u001b[0;34m=\u001b[0m \u001b[0mplt\u001b[0m\u001b[0;34m.\u001b[0m\u001b[0msubplots\u001b[0m\u001b[0;34m(\u001b[0m\u001b[0mfigsize\u001b[0m\u001b[0;34m=\u001b[0m\u001b[0;34m(\u001b[0m\u001b[0;36m15\u001b[0m\u001b[0;34m,\u001b[0m\u001b[0;36m8\u001b[0m\u001b[0;34m)\u001b[0m\u001b[0;34m)\u001b[0m\u001b[0;34m\u001b[0m\u001b[0;34m\u001b[0m\u001b[0m\n\u001b[0;32m----> 4\u001b[0;31m     dot_data = tree.export_graphviz(grid_cv.estimators_[i], out_file=None, \n\u001b[0m\u001b[1;32m      5\u001b[0m                                 \u001b[0mfeature_names\u001b[0m\u001b[0;34m=\u001b[0m\u001b[0mdataset\u001b[0m\u001b[0;34m.\u001b[0m\u001b[0mfeature_names\u001b[0m\u001b[0;34m,\u001b[0m\u001b[0;34m\u001b[0m\u001b[0;34m\u001b[0m\u001b[0m\n\u001b[1;32m      6\u001b[0m                                 \u001b[0mclass_names\u001b[0m\u001b[0;34m=\u001b[0m\u001b[0mdataset\u001b[0m\u001b[0;34m.\u001b[0m\u001b[0mtarget_names\u001b[0m\u001b[0;34m,\u001b[0m\u001b[0;34m\u001b[0m\u001b[0;34m\u001b[0m\u001b[0m\n",
            "\u001b[0;31mAttributeError\u001b[0m: 'GridSearchCV' object has no attribute 'estimators_'"
          ]
        },
        {
          "output_type": "display_data",
          "data": {
            "text/plain": [
              "<Figure size 1080x576 with 1 Axes>"
            ],
            "image/png": "[encoded data removed]"
          },
          "metadata": {
            "needs_background": "light"
          }
        }
      ]
    }
  ]
}